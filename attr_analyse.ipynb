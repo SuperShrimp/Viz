{
 "cells": [
  {
   "cell_type": "code",
   "execution_count": null,
   "metadata": {},
   "outputs": [],
   "source": []
  },
  {
   "cell_type": "code",
   "execution_count": 1,
   "metadata": {},
   "outputs": [
    {
     "name": "stdout",
     "output_type": "stream",
     "text": [
      "Jupyter environment detected. Enabling Open3D WebVisualizer.\n",
      "[Open3D INFO] WebRTC GUI backend enabled.\n",
      "[Open3D INFO] WebRTCWindowSystem: HTTP handshake server disabled.\n"
     ]
    }
   ],
   "source": [
    "import numpy as np\n",
    "import matplotlib.pyplot as plt\n",
    "import open3d\n",
    "from scipy.spatial.transform import Rotation"
   ]
  },
  {
   "cell_type": "code",
   "execution_count": 2,
   "metadata": {},
   "outputs": [],
   "source": [
    "attr_map = np.load(\"source_data_22_9_8_2028/attri_map_22_9_8_2028.npy\")\n",
    "pcl = np.load(\"source_data_22_9_8_2028/pcl_22_9_8_2028.npy\")\n",
    "box = np.load(\"source_data_22_7_21_1140/base_det_boxes_22_7_21_1140.npy\")\n",
    "label = np.load(\"source_data_22_7_21_1127/base_det_labels_22_7_21_1127.npy\")"
   ]
  },
  {
   "cell_type": "markdown",
   "metadata": {},
   "source": [
    "直接提取bbox"
   ]
  },
  {
   "cell_type": "code",
   "execution_count": 3,
   "metadata": {},
   "outputs": [
    {
     "data": {
      "text/plain": [
       "PointCloud with 28434 points."
      ]
     },
     "execution_count": 3,
     "metadata": {},
     "output_type": "execute_result"
    }
   ],
   "source": [
    "from copy import deepcopy\n",
    "\n",
    "\n",
    "pts = open3d.geometry.PointCloud()\n",
    "pts.points = open3d.utility.Vector3dVector(pcl[:, :3])\n",
    "box = box[0,:]\n",
    "#rot_mat是旋转矩阵，说明之前boundingbox是不用转的？\n",
    "rot_mat = Rotation.from_rotvec([0, 0, box[6]]).as_matrix()\n",
    "#转的是框，\n",
    "bb = open3d.geometry.OrientedBoundingBox(box[:3], rot_mat, box[3:6])\n",
    "#提取中心坐标\n",
    "[center_x, center_y, center_z] = bb.get_center()\n",
    "#提取顶点\n",
    "verterx_set = np.asarray(bb.get_box_points)\n",
    "heading = box[6]\n",
    "heading = -heading\n",
    "pts1 = deepcopy(pts)\n",
    "R = pts.get_rotation_matrix_from_xyz(( 0, 0, heading))\n",
    "pts1.rotate(R)\n"
   ]
  },
  {
   "cell_type": "markdown",
   "metadata": {},
   "source": [
    "可视化，看一下现在转过来没"
   ]
  },
  {
   "cell_type": "code",
   "execution_count": 4,
   "metadata": {},
   "outputs": [],
   "source": [
    "vis = open3d.visualization.Visualizer()\n",
    "vis.create_window()\n",
    "vis.get_render_option().point_size = 4.0\n",
    "vis.get_render_option().background_color = np.ones(3) * 0.25\n",
    "axis_pcd = open3d.geometry.TriangleMesh.create_coordinate_frame(\n",
    "            size=1.0, origin=[0, 0, 0])\n",
    "vis.add_geometry(axis_pcd)\n",
    "\n",
    "vis.add_geometry(pts1)\n",
    "rot_mat1 = Rotation.from_rotvec([0, 0, 0]).as_matrix()\n",
    "bb1 = open3d.geometry.OrientedBoundingBox(box[:3],rot_mat1, box[3:6])\n",
    "vis.add_geometry(bb)\n",
    "vis.run()\n",
    "vis.destroy_window()"
   ]
  },
  {
   "cell_type": "markdown",
   "metadata": {},
   "source": [
    "提取bb1中的顶点坐标，根据对齐后的顶点提取索引"
   ]
  },
  {
   "cell_type": "code",
   "execution_count": 5,
   "metadata": {},
   "outputs": [
    {
     "name": "stdout",
     "output_type": "stream",
     "text": [
      "(8, 3)\n"
     ]
    }
   ],
   "source": [
    "verterx_set1 = np.asarray(bb1.get_box_points())\n",
    "print(verterx_set1.shape)\n",
    "max_x = np.max(verterx_set1[:,0])\n",
    "max_y = np.max(verterx_set1[:,1])\n",
    "max_z = np.max(verterx_set1[:,2])\n",
    "min_x = np.min(verterx_set1[:,0])\n",
    "min_y = np.min(verterx_set1[:,1])\n",
    "min_z = np.min(verterx_set1[:,2])"
   ]
  },
  {
   "cell_type": "code",
   "execution_count": 6,
   "metadata": {},
   "outputs": [],
   "source": [
    "def crop_filter(cloud, min_x, max_x, min_y, max_y, min_z, max_z):\n",
    "    \"\"\"\n",
    "    获取指定区域的点\n",
    "    :param cloud: 输入点云\n",
    "    :param min_x: 指定方框的x方向最小值\n",
    "    :param max_x: 指定方框的x方向最大值\n",
    "    :param min_y: 指定方框的y方向最小值\n",
    "    :param max_y: 指定方框的y方向最大值\n",
    "    :param min_z: 指定方框的z方向最小值\n",
    "    :param max_z: 指定方框的z方向最大值\n",
    "    :return: 方框内的点云，方框外的点云\n",
    "    \"\"\"\n",
    "    points = np.asarray(cloud.points)\n",
    "\n",
    "    ind = np.where((points[:, 0] >= min_x) & (points[:, 0] <= max_x) &\n",
    "                   (points[:, 1] >= min_y) & (points[:, 1] <= max_y) &\n",
    "                   (points[:, 2] >= min_z) & (points[:, 2] <= max_z))[0]\n",
    "\n",
    "    inlier_cloud = cloud.select_by_index(ind)\n",
    "    #outlier_cloud = cloud.select_by_index(ind, invert=True)\n",
    "    return inlier_cloud, ind"
   ]
  },
  {
   "cell_type": "markdown",
   "metadata": {},
   "source": [
    "寄，先放一放吧"
   ]
  },
  {
   "cell_type": "code",
   "execution_count": 7,
   "metadata": {},
   "outputs": [
    {
     "name": "stdout",
     "output_type": "stream",
     "text": [
      "(0,)\n"
     ]
    }
   ],
   "source": [
    "crop_pts, indecies =crop_filter(pts1, min_x, max_x, min_y, max_y, min_z, max_z) \n",
    "#open3d.visualization.draw_geometries([crop_pts])\n",
    "print(indecies.shape)"
   ]
  },
  {
   "cell_type": "code",
   "execution_count": 2,
   "metadata": {},
   "outputs": [
    {
     "data": {
      "text/plain": [
       "(17, 7)"
      ]
     },
     "execution_count": 2,
     "metadata": {},
     "output_type": "execute_result"
    }
   ],
   "source": [
    "import numpy as np\n",
    "slope_box = np.load(\"slope_5/box_09_22_1430.npy\")\n",
    "slope_box.shape"
   ]
  },
  {
   "cell_type": "code",
   "execution_count": null,
   "metadata": {},
   "outputs": [],
   "source": [
    "from scipy.spatial.transform import Rotation\n",
    "import open3d\n",
    "label = [1 ,1 ,1 ,1, 3, 1, 3, 3, 3, 3, 2, 2, 3, 3, 1, 1, 1]\n",
    "label_color = [[1,0,0], [0,1,0], [0,1,1]]\n",
    "detections, data = slope_box.shape\n",
    "for i in range(detections):\n",
    "     box1 = box[i]\n",
    "     label_bbox= label[i]\n",
    "     color_bbox = color[label_bbox-1]\n",
    "     bbox = open3d.geometry.OrientedBoundingBox(box1[:3], rot_mat, box1[3:6])\n",
    "     bbox.color = (color_bbox[:])\n",
    "     #bbox.color = (1.0, 0.0, 1.0)\n",
    "     \n"
   ]
  },
  {
   "cell_type": "code",
   "execution_count": 3,
   "metadata": {},
   "outputs": [],
   "source": [
    "pts = open3d.geometry.PointCloud()\n",
    "pts.points = open3d.utility.Vector3dVector(pcl[:, :3])\n",
    "open3d.visualization.draw_geometries([pts])"
   ]
  },
  {
   "cell_type": "code",
   "execution_count": 6,
   "metadata": {},
   "outputs": [],
   "source": [
    "from utils import cropped_pcd\n",
    "slope = np.load(\"slope_data/pcl_10.npy\")\n",
    "slope_box = np.load(\"slope_data/box_10.npy\")\n",
    "slope_pts = cropped_pcd(slope, slope_box[0, :])\n",
    "pts = open3d.geometry.PointCloud()\n",
    "pts.points = open3d.utility.Vector3dVector(slope_pts[:, :3])\n",
    "open3d.visualization.draw_geometries([pts])\n"
   ]
  }
 ],
 "metadata": {
  "kernelspec": {
   "display_name": "Python 3.6.13 ('pytorch')",
   "language": "python",
   "name": "python3"
  },
  "language_info": {
   "codemirror_mode": {
    "name": "ipython",
    "version": 3
   },
   "file_extension": ".py",
   "mimetype": "text/x-python",
   "name": "python",
   "nbconvert_exporter": "python",
   "pygments_lexer": "ipython3",
   "version": "3.6.13"
  },
  "orig_nbformat": 4,
  "vscode": {
   "interpreter": {
    "hash": "0fbfd295793a09da38615af1a466522307f26156b71a2297d29d11bad6efa489"
   }
  }
 },
 "nbformat": 4,
 "nbformat_minor": 2
}
