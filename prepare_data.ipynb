{
 "cells": [
  {
   "cell_type": "code",
   "execution_count": 1,
   "metadata": {},
   "outputs": [
    {
     "name": "stdout",
     "output_type": "stream",
     "text": [
      "Jupyter environment detected. Enabling Open3D WebVisualizer.\n",
      "[Open3D INFO] WebRTC GUI backend enabled.\n",
      "[Open3D INFO] WebRTCWindowSystem: HTTP handshake server disabled.\n"
     ]
    }
   ],
   "source": [
    "from utils import dele_attr, cropped_pcd, new_pointcloud, replace_points, slope_corrupt, slope_corrupt\n",
    "import numpy as np\n",
    "import open3d\n",
    "import matplotlib.pyplot as plt\n",
    "from scipy.spatial.transform import Rotation"
   ]
  },
  {
   "cell_type": "code",
   "execution_count": 2,
   "metadata": {},
   "outputs": [],
   "source": [
    "attr_map = np.load(\"source_data_22_7_21_1140/attri_map_22_7_21_1140.npy\")\n",
    "pcl = np.load(\"source_data_22_7_21_1140/pcl_22_7_21_1140.npy\")\n",
    "#pcl = np.load(\"source_data_22_7_21_1127/pcl_22_7_21_1127.npy\")\n",
    "box = np.load(\"source_data_22_7_21_1140/base_det_boxes_22_7_21_1140.npy\")"
   ]
  },
  {
   "cell_type": "code",
   "execution_count": 3,
   "metadata": {},
   "outputs": [
    {
     "name": "stdout",
     "output_type": "stream",
     "text": [
      "[   65.    79.   144. ... 28396. 28401. 28404.]\n",
      "(3593, 4)\n",
      "(98, 3)\n"
     ]
    }
   ],
   "source": [
    "attr_map1, pt_list = dele_attr(attr_map[0, :], level=0.7)\n",
    "new_pcl = new_pointcloud(pcl, pt_list)\n",
    "points = cropped_pcd(new_pcl, box[0, :])\n",
    "print(points.shape)"
   ]
  },
  {
   "cell_type": "markdown",
   "metadata": {},
   "source": [
    "对点云进行简单的处理(jitter)"
   ]
  },
  {
   "cell_type": "code",
   "execution_count": 4,
   "metadata": {},
   "outputs": [
    {
     "name": "stdout",
     "output_type": "stream",
     "text": [
      "(98, 3)\n"
     ]
    }
   ],
   "source": [
    "from corruption_utils import corrupt_jitter\n",
    "points2 = corrupt_jitter(points, 2)\n",
    "print(points.shape)"
   ]
  },
  {
   "cell_type": "markdown",
   "metadata": {},
   "source": [
    "可视化（显示多个点云）"
   ]
  },
  {
   "cell_type": "code",
   "execution_count": 5,
   "metadata": {},
   "outputs": [
    {
     "data": {
      "text/plain": [
       "PointCloud with 98 points."
      ]
     },
     "execution_count": 5,
     "metadata": {},
     "output_type": "execute_result"
    }
   ],
   "source": [
    "pts = open3d.geometry.PointCloud()\n",
    "pts.points = open3d.utility.Vector3dVector(points[:, :3])\n",
    "pts.paint_uniform_color([0, 1, 0])\n",
    "#open3d.visualization.draw_geometries([pts])\n",
    "pts2 = open3d.geometry.PointCloud()\n",
    "pts2.points = open3d.utility.Vector3dVector(points2[:, :3])\n",
    "pts2.paint_uniform_color([1, 0, 0])\n",
    "#open3d.visualization.draw_geometries([pts, pts2])\n"
   ]
  },
  {
   "cell_type": "markdown",
   "metadata": {},
   "source": [
    "rotate处理"
   ]
  },
  {
   "cell_type": "code",
   "execution_count": 6,
   "metadata": {},
   "outputs": [
    {
     "name": "stdout",
     "output_type": "stream",
     "text": [
      "(98, 3)\n"
     ]
    }
   ],
   "source": [
    "from corruption_utils import corrupt_rotate\n",
    "points3 = corrupt_rotate(points, 3)\n",
    "print(points3.shape)"
   ]
  },
  {
   "cell_type": "markdown",
   "metadata": {},
   "source": [
    "rotate可视化"
   ]
  },
  {
   "cell_type": "code",
   "execution_count": 7,
   "metadata": {},
   "outputs": [
    {
     "data": {
      "text/plain": [
       "PointCloud with 98 points."
      ]
     },
     "execution_count": 7,
     "metadata": {},
     "output_type": "execute_result"
    }
   ],
   "source": [
    "pts = open3d.geometry.PointCloud()\n",
    "pts.points = open3d.utility.Vector3dVector(points[:, :3])\n",
    "pts.paint_uniform_color([0, 1, 0])\n",
    "#open3d.visualization.draw_geometries([pts])\n",
    "pts3 = open3d.geometry.PointCloud()\n",
    "pts3.points = open3d.utility.Vector3dVector(points3[:, :3])\n",
    "pts3.paint_uniform_color([1, 0, 0])\n",
    "#open3d.visualization.draw_geometries([pts, pts3])"
   ]
  },
  {
   "cell_type": "markdown",
   "metadata": {},
   "source": [
    "将rotate 完成的点放回到原文件中"
   ]
  },
  {
   "cell_type": "markdown",
   "metadata": {},
   "source": [
    "from utils import visualize_attr_map\n",
    "rotate_points= replace_points(pcl, points, points3)\n"
   ]
  },
  {
   "cell_type": "markdown",
   "metadata": {},
   "source": [
    "根据bbox中的点建立另一个索引列表"
   ]
  },
  {
   "cell_type": "markdown",
   "metadata": {},
   "source": [
    "point_crop(pcl,box)"
   ]
  },
  {
   "cell_type": "markdown",
   "metadata": {},
   "source": [
    "jitter_2*2"
   ]
  },
  {
   "cell_type": "code",
   "execution_count": 8,
   "metadata": {},
   "outputs": [
    {
     "name": "stdout",
     "output_type": "stream",
     "text": [
      "[1772. 1774. 1775. 1776. 1777. 1779. 1782. 2124. 2134. 2135. 2457. 2458.\n",
      " 2459. 2460. 2461. 2462. 2466. 2474. 2787. 2788. 2789. 2790. 3114. 3115.\n",
      " 3117. 3118. 3130. 3132. 3133. 3476. 3484. 3491. 3874. 3878. 3885. 3892.\n",
      " 3894. 3895. 3896. 3897. 3898. 3899. 3900. 4360. 4362. 4365. 4366. 4367.\n",
      " 4368. 4369. 4372. 4373. 4374. 4380. 4381. 4838. 4852. 4853. 4854. 4861.\n",
      " 5320. 5321. 5330. 5331. 5333. 5334. 5336. 5345. 5346. 5347. 5348. 5355.\n",
      " 5816. 5818. 5819. 5821. 5822. 5828. 5830. 5831. 5833. 5834. 5835. 5840.\n",
      " 6308. 6309. 6317. 6318. 6319. 6320. 6321. 6328. 6817. 6820. 6837. 6838.\n",
      " 7318. 7319.]\n"
     ]
    }
   ],
   "source": [
    "from operator import index\n",
    "import os\n",
    "os.makedirs\n",
    "level = 5\n",
    "time = 2\n",
    "points_jitter = corrupt_jitter(points, level)\n",
    "x=0\n",
    "while x <time:\n",
    "    points_jitter = corrupt_jitter(points_jitter, level)\n",
    "    x = x+1\n",
    "jitter, index = replace_points(pcl, points, points_jitter)\n",
    "print(index)\n",
    "#np.save(\"jitter\\jitter_5_200_\", jitter)\n",
    "\n"
   ]
  },
  {
   "cell_type": "markdown",
   "metadata": {},
   "source": [
    "jitter可视化"
   ]
  },
  {
   "cell_type": "markdown",
   "metadata": {},
   "source": [
    "pts = open3d.geometry.PointCloud()\n",
    "pts.points = open3d.utility.Vector3dVector(points[:, :3])\n",
    "pts.paint_uniform_color([1, 0, 0])\n",
    "#open3d.visualization.draw_geometries([pts])\n",
    "pts_jitter = open3d.geometry.PointCloud()\n",
    "pts_jitter.points = open3d.utility.Vector3dVector(jitter[:, :3])\n",
    "#pts_jitter.paint_uniform_color([0, 0, 1])\n",
    "open3d.visualization.draw_geometries([pts, pts_jitter])"
   ]
  },
  {
   "cell_type": "code",
   "execution_count": 9,
   "metadata": {},
   "outputs": [
    {
     "name": "stdout",
     "output_type": "stream",
     "text": [
      "(98,)\n",
      "[0.44290257 0.45272515 0.4394014  0.45067108 0.45829378 0.45143493\n",
      " 0.45741652 0.44218311 0.44775648 0.43930669 0.44184687 0.4438971\n",
      " 0.45715567 0.45833131 0.45043411 0.4538681  0.44832021 0.44930839\n",
      " 0.45391094 0.445956   0.45488593 0.44331033 0.43689186 0.45310745\n",
      " 0.47173856 0.43746189 0.44760013 0.44881548 0.44443611 0.44951201\n",
      " 0.44859546 0.43767136 0.44314898 0.44739991 0.43716088 0.44087668\n",
      " 0.4410608  0.44690176 0.44785567 0.44227851 0.45133637 0.45721736\n",
      " 0.44249727 0.45134113 0.44709435 0.44572275 0.43892278 0.44354932\n",
      " 0.43894184 0.44361848 0.43878816 0.43814603 0.4512144  0.44506864\n",
      " 0.44256798 0.45007951 0.44527073 0.4473001  0.44647696 0.45987504\n",
      " 0.44107719 0.45235845 0.43892693 0.44644632 0.43752065 0.45023479\n",
      " 0.46226719 0.4416084  0.43914106 0.44941268 0.44976141 0.4436453\n",
      " 0.4551193  0.44992588 0.44718433 0.45154837 0.44242273 0.44178277\n",
      " 0.45354649 0.44805112 0.44079538 0.44545408 0.44603725 0.46589579\n",
      " 0.44136823 0.47301776 0.45739354 0.44518575 0.45614375 0.44266832\n",
      " 0.4445869  0.43794853 0.44184623 0.44631134 0.43936195 0.4532049\n",
      " 0.4453122  0.44033331]\n"
     ]
    },
    {
     "data": {
      "text/plain": [
       "[<matplotlib.lines.Line2D at 0x24572a5be10>]"
      ]
     },
     "execution_count": 9,
     "metadata": {},
     "output_type": "execute_result"
    },
    {
     "data": {
      "image/png": "[encoded data removed]",
      "text/plain": [
       "<Figure size 432x288 with 1 Axes>"
      ]
     },
     "metadata": {
      "needs_background": "light"
     },
     "output_type": "display_data"
    }
   ],
   "source": [
    "new_attr = np.array([])\n",
    "print(index.shape)\n",
    "for i in range(len(index)):\n",
    "    index1 = index[i-1]\n",
    "    index1 = np.int(index1)\n",
    "    new_attr = np.append(new_attr, attr_map[0,index1])\n",
    "print(new_attr)\n",
    "\n",
    "plt.plot(new_attr, 'ro-')"
   ]
  },
  {
   "cell_type": "markdown",
   "metadata": {},
   "source": [
    "caculating the slope of critical points, and randomly move those \n",
    "position in limit distance \n",
    "    input: \n",
    "        pcl(N, 3)\n",
    "        index(n)"
   ]
  },
  {
   "cell_type": "code",
   "execution_count": 10,
   "metadata": {},
   "outputs": [],
   "source": [
    "from copy import deepcopy\n",
    "from random import uniform\n",
    "a = np.arange(-1, 1)\n",
    "m =np.random.uniform(-5, 5)\n",
    "\n",
    "pcl_corrupt = deepcopy(pcl)\n",
    "\n",
    "x = pcl[:,0]\n",
    "y = pcl[:,1]\n",
    "z = pcl[:,2]\n",
    "d = np.sqrt(np.square(x)+np.square(y))\n",
    "alpha = np.arctan(y/x)\n",
    "beta = np.arctan(z/d)\n",
    "for num in range(len(index)):\n",
    "    m = np.random.uniform(-1,1)\n",
    "    n = np.random.uniform(-1,1)\n",
    "    o = np.random.uniform(-1,1)\n",
    "    indicies = np.int(index[num])\n",
    "    pcl_corrupt[indicies][0] =pcl_corrupt[indicies][0] + m*np.cos(beta[num])*np.cos(alpha[num])\n",
    "    pcl_corrupt[indicies][1] =pcl_corrupt[indicies][1] + m*np.cos(beta[num])*np.sin(alpha[num])\n",
    "    pcl_corrupt[indicies][2] =pcl_corrupt[indicies][2]+ m*np.sin(beta[num])\n",
    "\n",
    " \n"
   ]
  },
  {
   "cell_type": "code",
   "execution_count": 11,
   "metadata": {},
   "outputs": [],
   "source": [
    "# pts_slove = open3d.geometry.PointCloud()\n",
    "# pts_slove.points = open3d.utility.Vector3dVector(pcl_corrupt[:, :3])\n",
    "# pts_slove.paint_uniform_color([0, 0, 2])\n",
    "# open3d.visualization.draw_geometries([pts, pts_slove])"
   ]
  },
  {
   "cell_type": "code",
   "execution_count": null,
   "metadata": {},
   "outputs": [],
   "source": []
  },
  {
   "cell_type": "code",
   "execution_count": 12,
   "metadata": {},
   "outputs": [
    {
     "ename": "FileNotFoundError",
     "evalue": "[Errno 2] No such file or directory: 'slope/slope_01.npy'",
     "output_type": "error",
     "traceback": [
      "\u001b[1;31m---------------------------------------------------------------------------\u001b[0m",
      "\u001b[1;31mFileNotFoundError\u001b[0m                         Traceback (most recent call last)",
      "\u001b[1;32m<ipython-input-12-23de7c613556>\u001b[0m in \u001b[0;36m<module>\u001b[1;34m\u001b[0m\n\u001b[1;32m----> 1\u001b[1;33m \u001b[0mslope\u001b[0m \u001b[1;33m=\u001b[0m \u001b[0mnp\u001b[0m\u001b[1;33m.\u001b[0m\u001b[0mload\u001b[0m\u001b[1;33m(\u001b[0m\u001b[1;34m\"slope/slope_01.npy\"\u001b[0m\u001b[1;33m)\u001b[0m\u001b[1;33m\u001b[0m\u001b[1;33m\u001b[0m\u001b[0m\n\u001b[0m\u001b[0;32m      2\u001b[0m \u001b[0mSlope\u001b[0m \u001b[1;33m=\u001b[0m \u001b[0mopen3d\u001b[0m\u001b[1;33m.\u001b[0m\u001b[0mgeometry\u001b[0m\u001b[1;33m.\u001b[0m\u001b[0mPointCloud\u001b[0m\u001b[1;33m(\u001b[0m\u001b[1;33m)\u001b[0m\u001b[1;33m\u001b[0m\u001b[1;33m\u001b[0m\u001b[0m\n\u001b[0;32m      3\u001b[0m \u001b[0mSlope\u001b[0m\u001b[1;33m.\u001b[0m\u001b[0mpoints\u001b[0m \u001b[1;33m=\u001b[0m \u001b[0mopen3d\u001b[0m\u001b[1;33m.\u001b[0m\u001b[0mutility\u001b[0m\u001b[1;33m.\u001b[0m\u001b[0mVector3dVector\u001b[0m\u001b[1;33m(\u001b[0m\u001b[0mslope\u001b[0m\u001b[1;33m[\u001b[0m\u001b[1;33m:\u001b[0m\u001b[1;33m,\u001b[0m \u001b[1;33m:\u001b[0m\u001b[1;36m3\u001b[0m\u001b[1;33m]\u001b[0m\u001b[1;33m)\u001b[0m\u001b[1;33m\u001b[0m\u001b[1;33m\u001b[0m\u001b[0m\n\u001b[0;32m      4\u001b[0m \u001b[0mpts\u001b[0m\u001b[1;33m.\u001b[0m\u001b[0mpaint_uniform_color\u001b[0m\u001b[1;33m(\u001b[0m\u001b[1;33m[\u001b[0m\u001b[1;36m1\u001b[0m\u001b[1;33m,\u001b[0m\u001b[1;36m0\u001b[0m\u001b[1;33m,\u001b[0m\u001b[1;36m0\u001b[0m\u001b[1;33m]\u001b[0m\u001b[1;33m)\u001b[0m\u001b[1;33m\u001b[0m\u001b[1;33m\u001b[0m\u001b[0m\n\u001b[0;32m      5\u001b[0m \u001b[0mopen3d\u001b[0m\u001b[1;33m.\u001b[0m\u001b[0mvisualization\u001b[0m\u001b[1;33m.\u001b[0m\u001b[0mdraw_geometries\u001b[0m\u001b[1;33m(\u001b[0m\u001b[1;33m[\u001b[0m\u001b[0mSlope\u001b[0m\u001b[1;33m,\u001b[0m \u001b[0mpts\u001b[0m\u001b[1;33m]\u001b[0m\u001b[1;33m)\u001b[0m\u001b[1;33m\u001b[0m\u001b[1;33m\u001b[0m\u001b[0m\n",
      "\u001b[1;32mc:\\Users\\25246\\anaconda3\\envs\\pytorch\\lib\\site-packages\\numpy\\lib\\npyio.py\u001b[0m in \u001b[0;36mload\u001b[1;34m(file, mmap_mode, allow_pickle, fix_imports, encoding)\u001b[0m\n\u001b[0;32m    414\u001b[0m             \u001b[0mown_fid\u001b[0m \u001b[1;33m=\u001b[0m \u001b[1;32mFalse\u001b[0m\u001b[1;33m\u001b[0m\u001b[1;33m\u001b[0m\u001b[0m\n\u001b[0;32m    415\u001b[0m         \u001b[1;32melse\u001b[0m\u001b[1;33m:\u001b[0m\u001b[1;33m\u001b[0m\u001b[1;33m\u001b[0m\u001b[0m\n\u001b[1;32m--> 416\u001b[1;33m             \u001b[0mfid\u001b[0m \u001b[1;33m=\u001b[0m \u001b[0mstack\u001b[0m\u001b[1;33m.\u001b[0m\u001b[0menter_context\u001b[0m\u001b[1;33m(\u001b[0m\u001b[0mopen\u001b[0m\u001b[1;33m(\u001b[0m\u001b[0mos_fspath\u001b[0m\u001b[1;33m(\u001b[0m\u001b[0mfile\u001b[0m\u001b[1;33m)\u001b[0m\u001b[1;33m,\u001b[0m \u001b[1;34m\"rb\"\u001b[0m\u001b[1;33m)\u001b[0m\u001b[1;33m)\u001b[0m\u001b[1;33m\u001b[0m\u001b[1;33m\u001b[0m\u001b[0m\n\u001b[0m\u001b[0;32m    417\u001b[0m             \u001b[0mown_fid\u001b[0m \u001b[1;33m=\u001b[0m \u001b[1;32mTrue\u001b[0m\u001b[1;33m\u001b[0m\u001b[1;33m\u001b[0m\u001b[0m\n\u001b[0;32m    418\u001b[0m \u001b[1;33m\u001b[0m\u001b[0m\n",
      "\u001b[1;31mFileNotFoundError\u001b[0m: [Errno 2] No such file or directory: 'slope/slope_01.npy'"
     ]
    }
   ],
   "source": [
    "slope = np.load(\"slope/slope_01.npy\")\n",
    "Slope = open3d.geometry.PointCloud()\n",
    "Slope.points = open3d.utility.Vector3dVector(slope[:, :3])\n",
    "pts.paint_uniform_color([1,0,0])\n",
    "open3d.visualization.draw_geometries([Slope, pts])"
   ]
  },
  {
   "cell_type": "code",
   "execution_count": 26,
   "metadata": {},
   "outputs": [],
   "source": [
    "slope01 = slope_corrupt(pcl, index, 100)\n"
   ]
  },
  {
   "cell_type": "code",
   "execution_count": 11,
   "metadata": {},
   "outputs": [
    {
     "ename": "ParserError",
     "evalue": "Error tokenizing data. C error: Expected 15 fields in line 7, saw 16\n",
     "output_type": "error",
     "traceback": [
      "\u001b[1;31m---------------------------------------------------------------------------\u001b[0m",
      "\u001b[1;31mParserError\u001b[0m                               Traceback (most recent call last)",
      "\u001b[1;32m<ipython-input-11-5cb8f958e88f>\u001b[0m in \u001b[0;36m<module>\u001b[1;34m\u001b[0m\n\u001b[0;32m      1\u001b[0m \u001b[1;32mimport\u001b[0m \u001b[0mpandas\u001b[0m \u001b[1;32mas\u001b[0m \u001b[0mpd\u001b[0m\u001b[1;33m\u001b[0m\u001b[1;33m\u001b[0m\u001b[0m\n\u001b[0;32m      2\u001b[0m \u001b[1;32mimport\u001b[0m \u001b[0mnumpy\u001b[0m \u001b[1;32mas\u001b[0m \u001b[0mnp\u001b[0m\u001b[1;33m\u001b[0m\u001b[1;33m\u001b[0m\u001b[0m\n\u001b[1;32m----> 3\u001b[1;33m \u001b[0mdf\u001b[0m \u001b[1;33m=\u001b[0m \u001b[0mpd\u001b[0m\u001b[1;33m.\u001b[0m\u001b[0mread_csv\u001b[0m\u001b[1;33m(\u001b[0m\u001b[1;34m'slope.csv'\u001b[0m\u001b[1;33m,\u001b[0m\u001b[0msep\u001b[0m\u001b[1;33m=\u001b[0m\u001b[1;34m'\\\\s+'\u001b[0m\u001b[1;33m,\u001b[0m \u001b[0mskiprows\u001b[0m\u001b[1;33m=\u001b[0m\u001b[1;33m[\u001b[0m\u001b[1;36m0\u001b[0m\u001b[1;33m]\u001b[0m\u001b[1;33m,\u001b[0m \u001b[0mheader\u001b[0m\u001b[1;33m=\u001b[0m\u001b[1;32mNone\u001b[0m\u001b[1;33m)\u001b[0m\u001b[1;33m\u001b[0m\u001b[1;33m\u001b[0m\u001b[0m\n\u001b[0m\u001b[0;32m      4\u001b[0m \u001b[1;31m# print(df)\u001b[0m\u001b[1;33m\u001b[0m\u001b[1;33m\u001b[0m\u001b[1;33m\u001b[0m\u001b[0m\n\u001b[0;32m      5\u001b[0m \u001b[1;31m# df.head(1)\u001b[0m\u001b[1;33m\u001b[0m\u001b[1;33m\u001b[0m\u001b[1;33m\u001b[0m\u001b[0m\n",
      "\u001b[1;32mc:\\Users\\25246\\anaconda3\\envs\\pytorch\\lib\\site-packages\\pandas\\io\\parsers.py\u001b[0m in \u001b[0;36mread_csv\u001b[1;34m(filepath_or_buffer, sep, delimiter, header, names, index_col, usecols, squeeze, prefix, mangle_dupe_cols, dtype, engine, converters, true_values, false_values, skipinitialspace, skiprows, skipfooter, nrows, na_values, keep_default_na, na_filter, verbose, skip_blank_lines, parse_dates, infer_datetime_format, keep_date_col, date_parser, dayfirst, cache_dates, iterator, chunksize, compression, thousands, decimal, lineterminator, quotechar, quoting, doublequote, escapechar, comment, encoding, dialect, error_bad_lines, warn_bad_lines, delim_whitespace, low_memory, memory_map, float_precision)\u001b[0m\n\u001b[0;32m    686\u001b[0m     )\n\u001b[0;32m    687\u001b[0m \u001b[1;33m\u001b[0m\u001b[0m\n\u001b[1;32m--> 688\u001b[1;33m     \u001b[1;32mreturn\u001b[0m \u001b[0m_read\u001b[0m\u001b[1;33m(\u001b[0m\u001b[0mfilepath_or_buffer\u001b[0m\u001b[1;33m,\u001b[0m \u001b[0mkwds\u001b[0m\u001b[1;33m)\u001b[0m\u001b[1;33m\u001b[0m\u001b[1;33m\u001b[0m\u001b[0m\n\u001b[0m\u001b[0;32m    689\u001b[0m \u001b[1;33m\u001b[0m\u001b[0m\n\u001b[0;32m    690\u001b[0m \u001b[1;33m\u001b[0m\u001b[0m\n",
      "\u001b[1;32mc:\\Users\\25246\\anaconda3\\envs\\pytorch\\lib\\site-packages\\pandas\\io\\parsers.py\u001b[0m in \u001b[0;36m_read\u001b[1;34m(filepath_or_buffer, kwds)\u001b[0m\n\u001b[0;32m    458\u001b[0m \u001b[1;33m\u001b[0m\u001b[0m\n\u001b[0;32m    459\u001b[0m     \u001b[1;32mtry\u001b[0m\u001b[1;33m:\u001b[0m\u001b[1;33m\u001b[0m\u001b[1;33m\u001b[0m\u001b[0m\n\u001b[1;32m--> 460\u001b[1;33m         \u001b[0mdata\u001b[0m \u001b[1;33m=\u001b[0m \u001b[0mparser\u001b[0m\u001b[1;33m.\u001b[0m\u001b[0mread\u001b[0m\u001b[1;33m(\u001b[0m\u001b[0mnrows\u001b[0m\u001b[1;33m)\u001b[0m\u001b[1;33m\u001b[0m\u001b[1;33m\u001b[0m\u001b[0m\n\u001b[0m\u001b[0;32m    461\u001b[0m     \u001b[1;32mfinally\u001b[0m\u001b[1;33m:\u001b[0m\u001b[1;33m\u001b[0m\u001b[1;33m\u001b[0m\u001b[0m\n\u001b[0;32m    462\u001b[0m         \u001b[0mparser\u001b[0m\u001b[1;33m.\u001b[0m\u001b[0mclose\u001b[0m\u001b[1;33m(\u001b[0m\u001b[1;33m)\u001b[0m\u001b[1;33m\u001b[0m\u001b[1;33m\u001b[0m\u001b[0m\n",
      "\u001b[1;32mc:\\Users\\25246\\anaconda3\\envs\\pytorch\\lib\\site-packages\\pandas\\io\\parsers.py\u001b[0m in \u001b[0;36mread\u001b[1;34m(self, nrows)\u001b[0m\n\u001b[0;32m   1196\u001b[0m     \u001b[1;32mdef\u001b[0m \u001b[0mread\u001b[0m\u001b[1;33m(\u001b[0m\u001b[0mself\u001b[0m\u001b[1;33m,\u001b[0m \u001b[0mnrows\u001b[0m\u001b[1;33m=\u001b[0m\u001b[1;32mNone\u001b[0m\u001b[1;33m)\u001b[0m\u001b[1;33m:\u001b[0m\u001b[1;33m\u001b[0m\u001b[1;33m\u001b[0m\u001b[0m\n\u001b[0;32m   1197\u001b[0m         \u001b[0mnrows\u001b[0m \u001b[1;33m=\u001b[0m \u001b[0m_validate_integer\u001b[0m\u001b[1;33m(\u001b[0m\u001b[1;34m\"nrows\"\u001b[0m\u001b[1;33m,\u001b[0m \u001b[0mnrows\u001b[0m\u001b[1;33m)\u001b[0m\u001b[1;33m\u001b[0m\u001b[1;33m\u001b[0m\u001b[0m\n\u001b[1;32m-> 1198\u001b[1;33m         \u001b[0mret\u001b[0m \u001b[1;33m=\u001b[0m \u001b[0mself\u001b[0m\u001b[1;33m.\u001b[0m\u001b[0m_engine\u001b[0m\u001b[1;33m.\u001b[0m\u001b[0mread\u001b[0m\u001b[1;33m(\u001b[0m\u001b[0mnrows\u001b[0m\u001b[1;33m)\u001b[0m\u001b[1;33m\u001b[0m\u001b[1;33m\u001b[0m\u001b[0m\n\u001b[0m\u001b[0;32m   1199\u001b[0m \u001b[1;33m\u001b[0m\u001b[0m\n\u001b[0;32m   1200\u001b[0m         \u001b[1;31m# May alter columns / col_dict\u001b[0m\u001b[1;33m\u001b[0m\u001b[1;33m\u001b[0m\u001b[1;33m\u001b[0m\u001b[0m\n",
      "\u001b[1;32mc:\\Users\\25246\\anaconda3\\envs\\pytorch\\lib\\site-packages\\pandas\\io\\parsers.py\u001b[0m in \u001b[0;36mread\u001b[1;34m(self, nrows)\u001b[0m\n\u001b[0;32m   2155\u001b[0m     \u001b[1;32mdef\u001b[0m \u001b[0mread\u001b[0m\u001b[1;33m(\u001b[0m\u001b[0mself\u001b[0m\u001b[1;33m,\u001b[0m \u001b[0mnrows\u001b[0m\u001b[1;33m=\u001b[0m\u001b[1;32mNone\u001b[0m\u001b[1;33m)\u001b[0m\u001b[1;33m:\u001b[0m\u001b[1;33m\u001b[0m\u001b[1;33m\u001b[0m\u001b[0m\n\u001b[0;32m   2156\u001b[0m         \u001b[1;32mtry\u001b[0m\u001b[1;33m:\u001b[0m\u001b[1;33m\u001b[0m\u001b[1;33m\u001b[0m\u001b[0m\n\u001b[1;32m-> 2157\u001b[1;33m             \u001b[0mdata\u001b[0m \u001b[1;33m=\u001b[0m \u001b[0mself\u001b[0m\u001b[1;33m.\u001b[0m\u001b[0m_reader\u001b[0m\u001b[1;33m.\u001b[0m\u001b[0mread\u001b[0m\u001b[1;33m(\u001b[0m\u001b[0mnrows\u001b[0m\u001b[1;33m)\u001b[0m\u001b[1;33m\u001b[0m\u001b[1;33m\u001b[0m\u001b[0m\n\u001b[0m\u001b[0;32m   2158\u001b[0m         \u001b[1;32mexcept\u001b[0m \u001b[0mStopIteration\u001b[0m\u001b[1;33m:\u001b[0m\u001b[1;33m\u001b[0m\u001b[1;33m\u001b[0m\u001b[0m\n\u001b[0;32m   2159\u001b[0m             \u001b[1;32mif\u001b[0m \u001b[0mself\u001b[0m\u001b[1;33m.\u001b[0m\u001b[0m_first_chunk\u001b[0m\u001b[1;33m:\u001b[0m\u001b[1;33m\u001b[0m\u001b[1;33m\u001b[0m\u001b[0m\n",
      "\u001b[1;32mpandas\\_libs\\parsers.pyx\u001b[0m in \u001b[0;36mpandas._libs.parsers.TextReader.read\u001b[1;34m()\u001b[0m\n",
      "\u001b[1;32mpandas\\_libs\\parsers.pyx\u001b[0m in \u001b[0;36mpandas._libs.parsers.TextReader._read_low_memory\u001b[1;34m()\u001b[0m\n",
      "\u001b[1;32mpandas\\_libs\\parsers.pyx\u001b[0m in \u001b[0;36mpandas._libs.parsers.TextReader._read_rows\u001b[1;34m()\u001b[0m\n",
      "\u001b[1;32mpandas\\_libs\\parsers.pyx\u001b[0m in \u001b[0;36mpandas._libs.parsers.TextReader._tokenize_rows\u001b[1;34m()\u001b[0m\n",
      "\u001b[1;32mpandas\\_libs\\parsers.pyx\u001b[0m in \u001b[0;36mpandas._libs.parsers.raise_parser_error\u001b[1;34m()\u001b[0m\n",
      "\u001b[1;31mParserError\u001b[0m: Error tokenizing data. C error: Expected 15 fields in line 7, saw 16\n"
     ]
    }
   ],
   "source": [
    "import pandas as pd\n",
    "import numpy as np\n",
    "df = pd.read_csv('slope.csv',sep='\\\\s+', skiprows=[0], header=None)\n",
    "# print(df)\n",
    "# df.head(1)\n",
    "mat = np.array(df)\n",
    "mat.dtype = 'int'\n"
   ]
  }
 ],
 "metadata": {
  "kernelspec": {
   "display_name": "Python 3.6.13 ('pytorch')",
   "language": "python",
   "name": "python3"
  },
  "language_info": {
   "codemirror_mode": {
    "name": "ipython",
    "version": 3
   },
   "file_extension": ".py",
   "mimetype": "text/x-python",
   "name": "python",
   "nbconvert_exporter": "python",
   "pygments_lexer": "ipython3",
   "version": "3.6.13"
  },
  "orig_nbformat": 4,
  "vscode": {
   "interpreter": {
    "hash": "0fbfd295793a09da38615af1a466522307f26156b71a2297d29d11bad6efa489"
   }
  }
 },
 "nbformat": 4,
 "nbformat_minor": 2
}
